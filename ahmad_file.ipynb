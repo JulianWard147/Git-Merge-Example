{
 "cells": [
  {
   "cell_type": "code",
   "execution_count": 1,
   "id": "80badd54-bc41-4d0b-9fc0-7a3949f3c1f1",
   "metadata": {},
   "outputs": [
    {
     "name": "stdout",
     "output_type": "stream",
     "text": [
      "This is Ahmad's file.\n"
     ]
    }
   ],
   "source": [
    "print('This is Ahmad\\'s file.')"
   ]
  },
  {
   "cell_type": "code",
   "execution_count": null,
   "id": "4abbdf04-ef82-4517-98d9-dc8f2bf666b0",
   "metadata": {},
   "outputs": [],
   "source": []
  }
 ],
 "metadata": {
  "kernelspec": {
   "display_name": "Python (learn-env)",
   "language": "python",
   "name": "learn-env"
  },
  "language_info": {
   "codemirror_mode": {
    "name": "ipython",
    "version": 3
   },
   "file_extension": ".py",
   "mimetype": "text/x-python",
   "name": "python",
   "nbconvert_exporter": "python",
   "pygments_lexer": "ipython3",
   "version": "3.8.5"
  }
 },
 "nbformat": 4,
 "nbformat_minor": 5
}
